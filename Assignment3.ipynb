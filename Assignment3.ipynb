{
 "cells": [
  {
   "cell_type": "code",
   "execution_count": 5,
   "id": "db6562b7-6dc0-4360-ab23-1078f4c1920c",
   "metadata": {},
   "outputs": [
    {
     "name": "stdout",
     "output_type": "stream",
     "text": [
      "Array shape: (3, 5)\n",
      "Array :\n",
      "[[19 11 15 18 20]\n",
      " [ 4 10 15 19 13]\n",
      " [17 16 16  4  7]]\n",
      "Array after replacing max in each row by 0:\n",
      "[[19 11 15 18  0]\n",
      " [ 4 10 15  0 13]\n",
      " [ 0 16 16  4  7]]\n",
      "\n",
      "Shape of the array: (4, 3)\n",
      "Type of the array: <class 'numpy.ndarray'>\n",
      "Data type of the array: int32\n"
     ]
    }
   ],
   "source": [
    "import numpy as np\n",
    "\n",
    "# Create random vector of size 15 with integers in the range 1-20\n",
    "random_vector = np.random.randint(1, 21, size=15)\n",
    "\n",
    "# Reshape the array to 3 by 5\n",
    "reshaped_array = random_vector.reshape(3, 5)\n",
    "\n",
    "# Print array shape\n",
    "print(\"Array shape:\", reshaped_array.shape)\n",
    "\n",
    "# Print array\n",
    "print(\"Array :\")\n",
    "print(reshaped_array)\n",
    "\n",
    "# Replace the max in each row by 0\n",
    "reshaped_array[np.arange(len(reshaped_array)), np.argmax(reshaped_array, axis=1)] = 0\n",
    "\n",
    "print(\"Array after replacing max in each row by 0:\")\n",
    "print(reshaped_array)\n",
    "\n",
    "# Create a 2-dimensional array of size 4 x 3 with 4-byte integer elements\n",
    "array_4x3 = np.random.randint(0, 1000, size=(4, 3), dtype=np.int32)\n",
    "\n",
    "# Print shape, type, and data type of the array\n",
    "print(\"\\nShape of the array:\", array_4x3.shape)\n",
    "print(\"Type of the array:\", type(array_4x3))\n",
    "print(\"Data type of the array:\", array_4x3.dtype)"
   ]
  },
  {
   "cell_type": "code",
   "execution_count": 2,
   "id": "71ee5502-6a58-42b7-8996-63dd257fd249",
   "metadata": {},
   "outputs": [
    {
     "name": "stdout",
     "output_type": "stream",
     "text": [
      "Eigenvalues:\n",
      "[2. 1.]\n",
      "\n",
      "Right Eigenvectors:\n",
      "[[0.89442719 0.70710678]\n",
      " [0.4472136  0.70710678]]\n"
     ]
    }
   ],
   "source": [
    "import numpy as np\n",
    "\n",
    "# Define the square array\n",
    "array = np.array([[3, -2],\n",
    "                  [1, 0]])\n",
    "\n",
    "# Compute eigenvalues and eigenvectors\n",
    "eigenvalues, eigenvectors = np.linalg.eig(array)\n",
    "\n",
    "# Print the eigenvalues and right eigenvectors\n",
    "print(\"Eigenvalues:\")\n",
    "print(eigenvalues)\n",
    "print(\"\\nRight Eigenvectors:\")\n",
    "print(eigenvectors)"
   ]
  },
  {
   "cell_type": "code",
   "execution_count": 3,
   "id": "db6d4c35-2227-40c7-8ad2-b2ab20e86934",
   "metadata": {},
   "outputs": [
    {
     "name": "stdout",
     "output_type": "stream",
     "text": [
      "Sum of diagonal elements: 4\n"
     ]
    }
   ],
   "source": [
    "import numpy as np\n",
    "\n",
    "# Define the array\n",
    "array = np.array([[0, 1, 2],\n",
    "                  [3, 4, 5]])\n",
    "\n",
    "# Compute the sum of diagonal elements\n",
    "diagonal_sum = np.trace(array)\n",
    "\n",
    "# Print the sum\n",
    "print(\"Sum of diagonal elements:\", diagonal_sum)"
   ]
  },
  {
   "cell_type": "code",
   "execution_count": 4,
   "id": "7353e926-db87-4d37-8573-69f3831a5a90",
   "metadata": {},
   "outputs": [
    {
     "name": "stdout",
     "output_type": "stream",
     "text": [
      "Reshaped array1 (3x2):\n",
      "[[1 2]\n",
      " [3 4]\n",
      " [5 6]]\n",
      "\n",
      "Reshaped array2 (2x3):\n",
      "[[1 2 3]\n",
      " [4 5 6]]\n"
     ]
    }
   ],
   "source": [
    "import numpy as np\n",
    "\n",
    "# Define the arrays\n",
    "array1 = np.array([[1, 2],\n",
    "                   [3, 4],\n",
    "                   [5, 6]])\n",
    "\n",
    "array2 = np.array([[1, 2, 3],\n",
    "                   [4, 5, 6]])\n",
    "\n",
    "# Reshape array1 to 3x2\n",
    "reshaped_array1 = array1.reshape(3, 2)\n",
    "\n",
    "# Reshape array2 to 2x3\n",
    "reshaped_array2 = array2.reshape(2, 3)\n",
    "\n",
    "# Print the reshaped arrays\n",
    "print(\"Reshaped array1 (3x2):\")\n",
    "print(reshaped_array1)\n",
    "\n",
    "print(\"\\nReshaped array2 (2x3):\")\n",
    "print(reshaped_array2)"
   ]
  }
 ],
 "metadata": {
  "kernelspec": {
   "display_name": "Python 3 (ipykernel)",
   "language": "python",
   "name": "python3"
  },
  "language_info": {
   "codemirror_mode": {
    "name": "ipython",
    "version": 3
   },
   "file_extension": ".py",
   "mimetype": "text/x-python",
   "name": "python",
   "nbconvert_exporter": "python",
   "pygments_lexer": "ipython3",
   "version": "3.12.3"
  }
 },
 "nbformat": 4,
 "nbformat_minor": 5
}
